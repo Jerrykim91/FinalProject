{
 "cells": [
  {
   "cell_type": "markdown",
   "metadata": {},
   "source": [
    "# 자동화\n"
   ]
  },
  {
   "cell_type": "markdown",
   "metadata": {},
   "source": [
    "## 1. 이미지 가져와요 "
   ]
  },
  {
   "cell_type": "code",
   "execution_count": 1,
   "metadata": {},
   "outputs": [],
   "source": [
    "import os , glob\n",
    "import pandas as pd\n",
    "import numpy as np\n",
    "from PIL import Image\n"
   ]
  },
  {
   "cell_type": "code",
   "execution_count": 2,
   "metadata": {},
   "outputs": [
    {
     "name": "stdout",
     "output_type": "stream",
     "text": [
      "C:\\kfood\n"
     ]
    }
   ],
   "source": [
    "f_path = r'C:\\kfood' # 파일 경로 \n",
    "dir_path = os.path.abspath(f_path) # 경로 \n",
    "print(dir_path)"
   ]
  },
  {
   "cell_type": "code",
   "execution_count": 42,
   "metadata": {},
   "outputs": [],
   "source": [
    "S_list = list() # 소타이틀\n",
    "B_list = list() # 대타이틀\n",
    "file_list =list() # 개별 데이터 \n",
    "\n",
    "for dirpath, dirnames, filenames in os.walk(dir_path):\n",
    "    \n",
    "    for filename in filenames:\n",
    "        file_list.append(filename)"
   ]
  },
  {
   "cell_type": "code",
   "execution_count": 43,
   "metadata": {},
   "outputs": [],
   "source": [
    "# text=list()\n",
    "# for file in file_list:\n",
    "#     text.append(file.split('.'))"
   ]
  },
  {
   "cell_type": "code",
   "execution_count": 44,
   "metadata": {},
   "outputs": [],
   "source": [
    "# my_img=list()\n",
    "# for t in text:\n",
    "#     my_img.append(t[1])"
   ]
  },
  {
   "cell_type": "code",
   "execution_count": 45,
   "metadata": {},
   "outputs": [],
   "source": [
    "# 데이터 추출 \n",
    "text = [file.split('.') for file in file_list] \n",
    "my_img = [t[1] for t in text]"
   ]
  },
  {
   "cell_type": "code",
   "execution_count": 46,
   "metadata": {},
   "outputs": [
    {
     "data": {
      "text/plain": [
       "'jpg'"
      ]
     },
     "execution_count": 46,
     "metadata": {},
     "output_type": "execute_result"
    }
   ],
   "source": [
    "a = set(my_img)\n",
    "a = list(my_img)\n",
    "a[5]"
   ]
  },
  {
   "cell_type": "code",
   "execution_count": 47,
   "metadata": {
    "scrolled": true
   },
   "outputs": [
    {
     "data": {
      "text/plain": [
       "(11,\n",
       " ['GIF',\n",
       "  'JPEG',\n",
       "  'JPG',\n",
       "  'PNG',\n",
       "  'bmp',\n",
       "  'csv',\n",
       "  'gif',\n",
       "  'jpeg',\n",
       "  'jpg',\n",
       "  'png',\n",
       "  'properties'])"
      ]
     },
     "execution_count": 47,
     "metadata": {},
     "output_type": "execute_result"
    }
   ],
   "source": [
    "my_img = sorted(list(set(my_img)))\n",
    "len(my_img),my_img"
   ]
  },
  {
   "cell_type": "code",
   "execution_count": 48,
   "metadata": {},
   "outputs": [
    {
     "data": {
      "text/plain": [
       "('csv', 'properties')"
      ]
     },
     "execution_count": 48,
     "metadata": {},
     "output_type": "execute_result"
    }
   ],
   "source": [
    "my_img[5], my_img[-1]"
   ]
  },
  {
   "cell_type": "code",
   "execution_count": 49,
   "metadata": {},
   "outputs": [],
   "source": [
    "# 데이터 삭제 작업 \n",
    "del my_img[5]\n",
    "del my_img[-1]"
   ]
  },
  {
   "cell_type": "code",
   "execution_count": 51,
   "metadata": {},
   "outputs": [
    {
     "data": {
      "text/plain": [
       "(9, ['GIF', 'JPEG', 'JPG', 'PNG', 'bmp', 'gif', 'jpeg', 'jpg', 'png'])"
      ]
     },
     "execution_count": 51,
     "metadata": {},
     "output_type": "execute_result"
    }
   ],
   "source": [
    "len(my_img), my_img"
   ]
  },
  {
   "cell_type": "code",
   "execution_count": 130,
   "metadata": {},
   "outputs": [],
   "source": [
    "PATH = r'C:/kfood/'\n",
    "\n",
    "fold_name=list()\n",
    "dum=[]\n",
    "cnt=0\n",
    "dir_name=list()\n",
    "for dir_f in glob.glob(PATH+'**'):\n",
    "    for dir_s in glob.glob(dir_f+'/*'):\n",
    "        dir_name.append(dir_s)        \n",
    "        for file in glob.glob(dir_s+'/*'):\n",
    "            dum.append(file)\n",
    "#             print(file)\n",
    "\n"
   ]
  },
  {
   "cell_type": "code",
   "execution_count": 132,
   "metadata": {},
   "outputs": [
    {
     "data": {
      "text/plain": [
       "150910"
      ]
     },
     "execution_count": 132,
     "metadata": {},
     "output_type": "execute_result"
    }
   ],
   "source": [
    "len(dum)"
   ]
  },
  {
   "cell_type": "code",
   "execution_count": 89,
   "metadata": {},
   "outputs": [],
   "source": [
    "food_name=list()\n",
    "for di in dir_name:\n",
    "    food_name.append(di.split('\\\\')[-1])"
   ]
  },
  {
   "cell_type": "code",
   "execution_count": 97,
   "metadata": {},
   "outputs": [
    {
     "data": {
      "text/plain": [
       "150"
      ]
     },
     "execution_count": 97,
     "metadata": {},
     "output_type": "execute_result"
    }
   ],
   "source": [
    "len(food_name)"
   ]
  },
  {
   "cell_type": "markdown",
   "metadata": {},
   "source": [
    "## 1.1 이미지 사전 맹들어요"
   ]
  },
  {
   "cell_type": "code",
   "execution_count": 106,
   "metadata": {},
   "outputs": [],
   "source": [
    "# 영문 이름 리스트\n",
    "food_in_english = \\\n",
    "['galbigui', \n",
    "'galchigui', \n",
    "'godeungeogui',\n",
    "'gopchanggui', \n",
    "'dakgalbi', \n",
    "'deodeokgui',\n",
    "'tteokgalbi',\n",
    "'bulgogi', \n",
    "'samgyeopsal',\n",
    "'jangeogui', \n",
    "'jogaegui', \n",
    "'jogigui', \n",
    "'hwangtaegui',\n",
    "'hunjeori', \n",
    "'gyelangug',\n",
    "'tteokguk-mandutguk',\n",
    "'muguk', \n",
    "'miyeokguk',\n",
    "'bugeotguk', \n",
    "'siraegiguk',\n",
    "'yukgaejang',\n",
    "'kongnamulguk',\n",
    "'gwamegi', \n",
    "'yangnyeomchicken', \n",
    "'jeotgal', \n",
    "'kongjaban',\n",
    "'pyeonyuk', \n",
    "'pizza',\n",
    "'friedchicken',\n",
    "'gatkimchi', \n",
    "'kkakdugi', \n",
    "'nabakkimchi',\n",
    "'musaengchae', \n",
    "'baechukimchi',\n",
    "'baekkimchi', \n",
    "'buchukimchi', \n",
    "'yeolmukimchi',\n",
    "'oisobagi', \n",
    "'chonggakkimchi',\n",
    "'pakimchi', \n",
    "'gajibokkeum',\n",
    "'gosarinamul',\n",
    "'miyeokjulgibokkeum', \n",
    "'sukjunamul',\n",
    "'sigeumchinamul',\n",
    "'aehobakbokkeum',\n",
    "'gyeongdan', \n",
    "'kkultteok', \n",
    "'songpyeon', \n",
    "'mandu', \n",
    "'ramyeon', \n",
    "'makguksu',\n",
    "'mulnaengmyeon',\n",
    "'bibimnaengmyeon',\n",
    "'sujebi', \n",
    "'yeolmuguksu',\n",
    "'janchiguksu',\n",
    "'jajangmyeon',\n",
    "'jjamppong', \n",
    "'jjolmyeon', \n",
    "'kalguksu', \n",
    "'kongguksu',\n",
    "'kkwaligochumuchim', \n",
    "'dorajimuchim', \n",
    "'dotorimuk', \n",
    "'japchae', \n",
    "'kongnamulmuchim',\n",
    "'hongeomuchim', \n",
    "'hoemuchim', \n",
    "'gimbap', \n",
    "'kimchibokkeumbap',\n",
    "'nurungji', \n",
    "'bibimbap', \n",
    "'saeubokkeumbap',\n",
    "'albap', \n",
    "'yubuchobap',\n",
    "'japgokbap', \n",
    "'jumeokbap', \n",
    "'gamjachaebokkeum', \n",
    "'geonsaeubokkeum', \n",
    "'gochujangjinmichaebokkeum',\n",
    "'dubukimchi', \n",
    "'tteokbokki', \n",
    "'rabokki', \n",
    "'myeolchibokkeum',\n",
    "'sausagebokkeum',\n",
    "'eomukbokkeum',\n",
    "'ojingeochaebokkeum',\n",
    "'jeyukbokkeum', \n",
    "'jukkumibokkeum',\n",
    "'bossam', \n",
    "'sujeonggwa',\n",
    "'sikhye', \n",
    "'ganjanggejang',\n",
    "'yangnyeomgejang',\n",
    "'kkaesipjangajji',\n",
    "'tteokkkochi',\n",
    "'gamjajeon',\n",
    "'gyeranmari', \n",
    "'gyeranfry', \n",
    "'kimchijeon',\n",
    "'dongeurangttaeng',\n",
    "'saengseonjeon', \n",
    "'pajeon', \n",
    "'hobakjeon', \n",
    "'gopchangjeongol',\n",
    "'galchijorim', \n",
    "'gamjajorim', \n",
    "'godeungeojorim',\n",
    "'kkongchijorim',\n",
    "'dubujorim', \n",
    "'ttangkongjorim',\n",
    "'mechurialjangjorim', \n",
    "'yeongeunjorim', \n",
    "'ueongjorim', \n",
    "'jangjorim', \n",
    "'kodarijorim',\n",
    "'jeonbokjuk', \n",
    "'hobakjuk', \n",
    "'kimchijjigae',\n",
    "'dakgyejang', \n",
    "'dongtaejjigae',\n",
    "'doenjangjjigae',\n",
    "'sundubujjigae', \n",
    "'galbijjim', \n",
    "'gyeranjjim', \n",
    "'kimchijjim', \n",
    "'kkomakjjim', \n",
    "'dakbokkeumtang', \n",
    "'suyuk',\n",
    "'sundae',\n",
    "'jokbal',\n",
    "'jjimdak', \n",
    "'haemuljjim',\n",
    "'galbitang', \n",
    "'gamjatang', \n",
    "'gomguk-seolleongtang',\n",
    "'maeuntang', \n",
    "'samgyetang',\n",
    "'chueotang', \n",
    "'gochutwigim', \n",
    "'saeutwigim', \n",
    "'ojingeotwigim',\n",
    "'yakgwa', \n",
    "'yaksik', \n",
    "'hangwa', \n",
    "'meongge', \n",
    "'sannakji',\n",
    "'mulhoe', \n",
    "'yukhoe' ]\n"
   ]
  },
  {
   "cell_type": "code",
   "execution_count": 107,
   "metadata": {},
   "outputs": [
    {
     "data": {
      "text/plain": [
       "150"
      ]
     },
     "execution_count": 107,
     "metadata": {},
     "output_type": "execute_result"
    }
   ],
   "source": [
    "len(food_in_english)"
   ]
  },
  {
   "cell_type": "code",
   "execution_count": 111,
   "metadata": {},
   "outputs": [],
   "source": [
    "dic_food={}\n",
    "\n",
    "for i,j in zip(food_name,food_in_english ):\n",
    "#     print(i,j)\n",
    "    dic_food[i]=j"
   ]
  },
  {
   "cell_type": "code",
   "execution_count": 112,
   "metadata": {
    "scrolled": true
   },
   "outputs": [
    {
     "data": {
      "text/plain": [
       "{'갈비구이': 'galbigui',\n",
       " '갈치구이': 'galchigui',\n",
       " '고등어구이': 'godeungeogui',\n",
       " '곱창구이': 'gopchanggui',\n",
       " '닭갈비': 'dakgalbi',\n",
       " '더덕구이': 'deodeokgui',\n",
       " '떡갈비': 'tteokgalbi',\n",
       " '불고기': 'bulgogi',\n",
       " '삼겹살': 'samgyeopsal',\n",
       " '장어구이': 'jangeogui',\n",
       " '조개구이': 'jogaegui',\n",
       " '조기구이': 'jogigui',\n",
       " '황태구이': 'hwangtaegui',\n",
       " '훈제오리': 'hunjeori',\n",
       " '계란국': 'gyelangug',\n",
       " '떡국_만두국': 'tteokguk-mandutguk',\n",
       " '무국': 'muguk',\n",
       " '미역국': 'miyeokguk',\n",
       " '북엇국': 'bugeotguk',\n",
       " '시래기국': 'siraegiguk',\n",
       " '육개장': 'yukgaejang',\n",
       " '콩나물국': 'kongnamulguk',\n",
       " '과메기': 'gwamegi',\n",
       " '양념치킨': 'yangnyeomchicken',\n",
       " '젓갈': 'jeotgal',\n",
       " '콩자반': 'kongjaban',\n",
       " '편육': 'pyeonyuk',\n",
       " '피자': 'pizza',\n",
       " '후라이드치킨': 'friedchicken',\n",
       " '갓김치': 'gatkimchi',\n",
       " '깍두기': 'kkakdugi',\n",
       " '나박김치': 'nabakkimchi',\n",
       " '무생채': 'musaengchae',\n",
       " '배추김치': 'baechukimchi',\n",
       " '백김치': 'baekkimchi',\n",
       " '부추김치': 'buchukimchi',\n",
       " '열무김치': 'yeolmukimchi',\n",
       " '오이소박이': 'oisobagi',\n",
       " '총각김치': 'chonggakkimchi',\n",
       " '파김치': 'pakimchi',\n",
       " '가지볶음': 'gajibokkeum',\n",
       " '고사리나물': 'gosarinamul',\n",
       " '미역줄기볶음': 'miyeokjulgibokkeum',\n",
       " '숙주나물': 'sukjunamul',\n",
       " '시금치나물': 'sigeumchinamul',\n",
       " '애호박볶음': 'aehobakbokkeum',\n",
       " '경단': 'gyeongdan',\n",
       " '꿀떡': 'kkultteok',\n",
       " '송편': 'songpyeon',\n",
       " '만두': 'mandu',\n",
       " '라면': 'ramyeon',\n",
       " '막국수': 'makguksu',\n",
       " '물냉면': 'mulnaengmyeon',\n",
       " '비빔냉면': 'bibimnaengmyeon',\n",
       " '수제비': 'sujebi',\n",
       " '열무국수': 'yeolmuguksu',\n",
       " '잔치국수': 'janchiguksu',\n",
       " '짜장면': 'jajangmyeon',\n",
       " '짬뽕': 'jjamppong',\n",
       " '쫄면': 'jjolmyeon',\n",
       " '칼국수': 'kalguksu',\n",
       " '콩국수': 'kongguksu',\n",
       " '꽈리고추무침': 'kkwaligochumuchim',\n",
       " '도라지무침': 'dorajimuchim',\n",
       " '도토리묵': 'dotorimuk',\n",
       " '잡채': 'japchae',\n",
       " '콩나물무침': 'kongnamulmuchim',\n",
       " '홍어무침': 'hongeomuchim',\n",
       " '회무침': 'hoemuchim',\n",
       " '김밥': 'gimbap',\n",
       " '김치볶음밥': 'kimchibokkeumbap',\n",
       " '누룽지': 'nurungji',\n",
       " '비빔밥': 'bibimbap',\n",
       " '새우볶음밥': 'saeubokkeumbap',\n",
       " '알밥': 'albap',\n",
       " '유부초밥': 'yubuchobap',\n",
       " '잡곡밥': 'japgokbap',\n",
       " '주먹밥': 'jumeokbap',\n",
       " '감자채볶음': 'gamjachaebokkeum',\n",
       " '건새우볶음': 'geonsaeubokkeum',\n",
       " '고추장진미채볶음': 'gochujangjinmichaebokkeum',\n",
       " '두부김치': 'dubukimchi',\n",
       " '떡볶이': 'tteokbokki',\n",
       " '라볶이': 'rabokki',\n",
       " '멸치볶음': 'myeolchibokkeum',\n",
       " '소세지볶음': 'sausagebokkeum',\n",
       " '어묵볶음': 'eomukbokkeum',\n",
       " '오징어채볶음': 'ojingeochaebokkeum',\n",
       " '제육볶음': 'jeyukbokkeum',\n",
       " '주꾸미볶음': 'jukkumibokkeum',\n",
       " '보쌈': 'bossam',\n",
       " '수정과': 'sujeonggwa',\n",
       " '식혜': 'sikhye',\n",
       " '간장게장': 'ganjanggejang',\n",
       " '양념게장': 'yangnyeomgejang',\n",
       " '깻잎장아찌': 'kkaesipjangajji',\n",
       " '떡꼬치': 'tteokkkochi',\n",
       " '감자전': 'gamjajeon',\n",
       " '계란말이': 'gyeranmari',\n",
       " '계란후라이': 'gyeranfry',\n",
       " '김치전': 'kimchijeon',\n",
       " '동그랑땡': 'dongeurangttaeng',\n",
       " '생선전': 'saengseonjeon',\n",
       " '파전': 'pajeon',\n",
       " '호박전': 'hobakjeon',\n",
       " '곱창전골': 'gopchangjeongol',\n",
       " '갈치조림': 'galchijorim',\n",
       " '감자조림': 'gamjajorim',\n",
       " '고등어조림': 'godeungeojorim',\n",
       " '꽁치조림': 'kkongchijorim',\n",
       " '두부조림': 'dubujorim',\n",
       " '땅콩조림': 'ttangkongjorim',\n",
       " '메추리알장조림': 'mechurialjangjorim',\n",
       " '연근조림': 'yeongeunjorim',\n",
       " '우엉조림': 'ueongjorim',\n",
       " '장조림': 'jangjorim',\n",
       " '코다리조림': 'kodarijorim',\n",
       " '전복죽': 'jeonbokjuk',\n",
       " '호박죽': 'hobakjuk',\n",
       " '김치찌개': 'kimchijjigae',\n",
       " '닭계장': 'dakgyejang',\n",
       " '동태찌개': 'dongtaejjigae',\n",
       " '된장찌개': 'doenjangjjigae',\n",
       " '순두부찌개': 'sundubujjigae',\n",
       " '갈비찜': 'galbijjim',\n",
       " '계란찜': 'gyeranjjim',\n",
       " '김치찜': 'kimchijjim',\n",
       " '꼬막찜': 'kkomakjjim',\n",
       " '닭볶음탕': 'dakbokkeumtang',\n",
       " '수육': 'suyuk',\n",
       " '순대': 'sundae',\n",
       " '족발': 'jokbal',\n",
       " '찜닭': 'jjimdak',\n",
       " '해물찜': 'haemuljjim',\n",
       " '갈비탕': 'galbitang',\n",
       " '감자탕': 'gamjatang',\n",
       " '곰탕_설렁탕': 'gomguk-seolleongtang',\n",
       " '매운탕': 'maeuntang',\n",
       " '삼계탕': 'samgyetang',\n",
       " '추어탕': 'chueotang',\n",
       " '고추튀김': 'gochutwigim',\n",
       " '새우튀김': 'saeutwigim',\n",
       " '오징어튀김': 'ojingeotwigim',\n",
       " '약과': 'yakgwa',\n",
       " '약식': 'yaksik',\n",
       " '한과': 'hangwa',\n",
       " '멍게': 'meongge',\n",
       " '산낙지': 'sannakji',\n",
       " '물회': 'mulhoe',\n",
       " '육회': 'yukhoe'}"
      ]
     },
     "execution_count": 112,
     "metadata": {},
     "output_type": "execute_result"
    }
   ],
   "source": [
    "dic_food"
   ]
  },
  {
   "cell_type": "markdown",
   "metadata": {},
   "source": [
    "## 1.2 함수전에 프로그램을 짜놓아요"
   ]
  },
  {
   "cell_type": "code",
   "execution_count": null,
   "metadata": {},
   "outputs": [],
   "source": []
  },
  {
   "cell_type": "code",
   "execution_count": 117,
   "metadata": {},
   "outputs": [],
   "source": [
    "PATH = r'C:/kfood/'\n",
    "\n",
    "fold_name=list()\n",
    "cnt=0\n",
    "dir_name=list()\n",
    "for dir_f in glob.glob(PATH+'**'):\n",
    "    for dir_s in glob.glob(dir_f+'/*'):\n",
    "        dir_name.append(dir_s)      "
   ]
  },
  {
   "cell_type": "code",
   "execution_count": 122,
   "metadata": {},
   "outputs": [
    {
     "data": {
      "text/plain": [
       "150"
      ]
     },
     "execution_count": 122,
     "metadata": {},
     "output_type": "execute_result"
    }
   ],
   "source": [
    "len(dir_name)"
   ]
  },
  {
   "cell_type": "code",
   "execution_count": 124,
   "metadata": {},
   "outputs": [],
   "source": [
    "# dir_name"
   ]
  },
  {
   "cell_type": "code",
   "execution_count": 128,
   "metadata": {},
   "outputs": [],
   "source": [
    "cnt = 0 # 변수 초기화 \n",
    "img_list=list()\n",
    "\n",
    "for n in range(len(dir_name)):\n",
    "    for i in glob.glob(dir_name[n]+'/*'):\n",
    "        if my_img[0]in i or my_img[1]in i or my_img[2]in i or my_img[3]in i or my_img[4]in i or my_img[5]in i or my_img[6]in i or my_img[7]in i or my_img[8]in i:\n",
    "#             print(i)\n",
    "            img_list.append(i)\n",
    "#             break"
   ]
  },
  {
   "cell_type": "code",
   "execution_count": 129,
   "metadata": {},
   "outputs": [
    {
     "data": {
      "text/plain": [
       "150610"
      ]
     },
     "execution_count": 129,
     "metadata": {},
     "output_type": "execute_result"
    }
   ],
   "source": [
    "len(img_list)"
   ]
  },
  {
   "cell_type": "code",
   "execution_count": 134,
   "metadata": {},
   "outputs": [
    {
     "data": {
      "text/plain": [
       "300"
      ]
     },
     "execution_count": 134,
     "metadata": {},
     "output_type": "execute_result"
    }
   ],
   "source": [
    "150*2"
   ]
  },
  {
   "cell_type": "code",
   "execution_count": 133,
   "metadata": {},
   "outputs": [
    {
     "data": {
      "text/plain": [
       "300"
      ]
     },
     "execution_count": 133,
     "metadata": {},
     "output_type": "execute_result"
    }
   ],
   "source": [
    "# 데이터 \n",
    "len(dum)-len(img_list)"
   ]
  },
  {
   "cell_type": "code",
   "execution_count": null,
   "metadata": {},
   "outputs": [],
   "source": []
  },
  {
   "cell_type": "markdown",
   "metadata": {},
   "source": [
    "## 2. 이미지 함수 만들어요 \n",
    "\n",
    "이미지 폴더 만드는 함수 \n",
    "이미지 제너레이터 만드는 함수 \n"
   ]
  },
  {
   "cell_type": "markdown",
   "metadata": {},
   "source": [
    "## 3. "
   ]
  },
  {
   "cell_type": "code",
   "execution_count": null,
   "metadata": {},
   "outputs": [],
   "source": []
  }
 ],
 "metadata": {
  "kernelspec": {
   "display_name": "Python 3",
   "language": "python",
   "name": "python3"
  },
  "language_info": {
   "codemirror_mode": {
    "name": "ipython",
    "version": 3
   },
   "file_extension": ".py",
   "mimetype": "text/x-python",
   "name": "python",
   "nbconvert_exporter": "python",
   "pygments_lexer": "ipython3",
   "version": "3.6.5"
  }
 },
 "nbformat": 4,
 "nbformat_minor": 4
}
